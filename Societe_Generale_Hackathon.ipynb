{
  "nbformat": 4,
  "nbformat_minor": 0,
  "metadata": {
    "colab": {
      "provenance": []
    },
    "kernelspec": {
      "name": "python3",
      "display_name": "Python 3"
    },
    "language_info": {
      "name": "python"
    }
  },
  "cells": [
    {
      "cell_type": "code",
      "source": [
        "import requests\n",
        "from selenium import webdriver\n",
        "from bs4 import BeautifulSoup\n",
        "import time\n",
        "import pandas as pd"
      ],
      "metadata": {
        "id": "P1wrVR_GcW7a"
      },
      "execution_count": 1,
      "outputs": []
    },
    {
      "cell_type": "code",
      "source": [
        "role_data = {\n",
        "    \"Software Development\": [\n",
        "        \"Experienced in developing web applications using Python and Django.\",\n",
        "        \"Proficient in Java and object-oriented programming concepts.\",\n",
        "        \"Familiar with version control systems like Git.\",\n",
        "        \"Skilled in front-end technologies such as HTML, CSS, and JavaScript.\",\n",
        "        \"Strong problem-solving skills and ability to work in agile teams.\",\n",
        "        \"Developed mobile applications using React Native framework.\",\n",
        "        \"Worked on optimizing database queries for performance improvement.\",\n",
        "        \"Knowledge of software design patterns and architectural principles.\",\n",
        "        \"Contributed to open-source projects and participated in code reviews.\",\n",
        "        \"Experience with cloud platforms like AWS and Azure.\",\n",
        "        \"Designed and implemented RESTful APIs for microservices architecture.\"\n",
        "    ],\n",
        "    \"Data Science\": [\n",
        "        \"Expertise in data preprocessing and cleaning using pandas and NumPy.\",\n",
        "        \"Experience in building machine learning models for classification.\",\n",
        "        \"Proficient in data visualization using libraries like Matplotlib and Seaborn.\",\n",
        "        \"Familiarity with natural language processing techniques.\",\n",
        "        \"Strong foundation in statistics and hypothesis testing.\",\n",
        "        \"Used scikit-learn to perform feature selection and model evaluation.\",\n",
        "        \"Participated in Kaggle competitions to apply machine learning concepts.\",\n",
        "        \"Implemented collaborative filtering for a recommendation system.\",\n",
        "        \"Utilized TensorFlow for building and training neural networks.\"\n",
        "    ],\n",
        "    \"Machine Learning Engineer\": [\n",
        "        \"Built and deployed machine learning models for predictive analytics.\",\n",
        "        \"Strong understanding of neural networks and deep learning algorithms.\",\n",
        "        \"Experience with frameworks like TensorFlow and PyTorch.\",\n",
        "        \"Developed algorithms for natural language processing tasks.\",\n",
        "        \"Deployed models using Docker containers and Kubernetes.\"\n",
        "    ],\n",
        "    \"Data Analyst\": [\n",
        "        \"Performed exploratory data analysis on large datasets.\",\n",
        "        \"Generated insights from data visualizations and statistical analyses.\",\n",
        "        \"Created interactive dashboards using tools like Tableau.\",\n",
        "        \"Experience in data cleaning, transformation, and validation.\",\n",
        "        \"Strong SQL skills for data querying and analysis.\"\n",
        "    ],\n",
        "    \"Front-End Developer\": [\n",
        "        \"Developed responsive and user-friendly web interfaces.\",\n",
        "        \"Proficient in HTML, CSS, and JavaScript frameworks like React.\",\n",
        "        \"Designed and implemented interactive features.\",\n",
        "        \"Collaborated closely with UX designers and backend developers.\"\n",
        "    ],\n",
        "    \"Backend Developer\": [\n",
        "        \"Designed and implemented server-side logic and APIs.\",\n",
        "        \"Experience with database management and optimization.\",\n",
        "        \"Strong programming skills in languages like Java and Python.\",\n",
        "        \"Worked on authentication and security aspects of applications.\"\n",
        "    ],\n",
        "    \"Full Stack Developer\": [\n",
        "        \"Proficient in both frontend and backend development.\",\n",
        "        \"Built end-to-end web applications from design to deployment.\"\n",
        "    ],\n",
        "    \"RPA Developer\": [\n",
        "        \"Developed and maintained robotic process automation workflows.\",\n",
        "        \"Automated repetitive tasks using RPA tools like UiPath.\",\n",
        "        \"Experience in creating bots for data entry and validation.\"\n",
        "    ]\n",
        "}"
      ],
      "metadata": {
        "id": "JhhOUn98aLfK"
      },
      "execution_count": 2,
      "outputs": []
    },
    {
      "cell_type": "code",
      "source": [
        "from sklearn.model_selection import train_test_split\n",
        "\n",
        "# Flatten the role_data dictionary into a list of (role, sentence) tuples\n",
        "flattened_data = [(role, sentence) for role, sentences in role_data.items() for sentence in sentences]\n",
        "\n",
        "# Separate data into sentences and topics\n",
        "sentences = [row[1] for row in flattened_data]\n",
        "roles = [row[0] for row in flattened_data]\n",
        "\n",
        "# Split the data into training and testing sets\n",
        "train_sentences, test_sentences, train_roles, test_roles = train_test_split(\n",
        "    sentences, roles, test_size=0.2, random_state=42\n",
        ")\n",
        "\n",
        "from sklearn.feature_extraction.text import TfidfVectorizer\n",
        "\n",
        "vectorizer = TfidfVectorizer(max_features=1000)  # Adjust max_features as needed\n",
        "X_train = vectorizer.fit_transform(train_sentences)\n",
        "X_test = vectorizer.transform(test_sentences)\n",
        "\n",
        "from sklearn.svm import SVC  # Support Vector Classifier\n",
        "\n",
        "classifier = SVC(kernel='linear')\n",
        "classifier.fit(X_train, train_roles)\n",
        "\n",
        "from sklearn.metrics import accuracy_score, classification_report\n",
        "\n",
        "predictions = classifier.predict(X_test)\n",
        "\n",
        "accuracy = accuracy_score(test_roles, predictions)\n",
        "print(\"Accuracy:\", accuracy)\n",
        "\n",
        "report = classification_report(test_roles, predictions)\n",
        "print(\"Classification Report:\\n\", report)"
      ],
      "metadata": {
        "colab": {
          "base_uri": "https://localhost:8080/"
        },
        "id": "QniIZKP0Xw-u",
        "outputId": "3495b508-ef62-47cb-923a-51e28c5cfc75"
      },
      "execution_count": 3,
      "outputs": [
        {
          "output_type": "stream",
          "name": "stdout",
          "text": [
            "Accuracy: 0.1111111111111111\n",
            "Classification Report:\n",
            "                            precision    recall  f1-score   support\n",
            "\n",
            "        Backend Developer       0.00      0.00      0.00         3\n",
            "             Data Analyst       0.00      0.00      0.00         1\n",
            "             Data Science       0.33      1.00      0.50         1\n",
            "     Full Stack Developer       0.00      0.00      0.00         1\n",
            "Machine Learning Engineer       0.00      0.00      0.00         1\n",
            "     Software Development       0.00      0.00      0.00         2\n",
            "\n",
            "                 accuracy                           0.11         9\n",
            "                macro avg       0.06      0.17      0.08         9\n",
            "             weighted avg       0.04      0.11      0.06         9\n",
            "\n"
          ]
        },
        {
          "output_type": "stream",
          "name": "stderr",
          "text": [
            "/usr/local/lib/python3.10/dist-packages/sklearn/metrics/_classification.py:1344: UndefinedMetricWarning: Precision and F-score are ill-defined and being set to 0.0 in labels with no predicted samples. Use `zero_division` parameter to control this behavior.\n",
            "  _warn_prf(average, modifier, msg_start, len(result))\n",
            "/usr/local/lib/python3.10/dist-packages/sklearn/metrics/_classification.py:1344: UndefinedMetricWarning: Precision and F-score are ill-defined and being set to 0.0 in labels with no predicted samples. Use `zero_division` parameter to control this behavior.\n",
            "  _warn_prf(average, modifier, msg_start, len(result))\n",
            "/usr/local/lib/python3.10/dist-packages/sklearn/metrics/_classification.py:1344: UndefinedMetricWarning: Precision and F-score are ill-defined and being set to 0.0 in labels with no predicted samples. Use `zero_division` parameter to control this behavior.\n",
            "  _warn_prf(average, modifier, msg_start, len(result))\n"
          ]
        }
      ]
    },
    {
      "cell_type": "code",
      "source": [
        "resume_text = {'name': 'John Doe', 'skills': 'Strong SQL skills, Built machine learning models for customer segmentation.', 'experience': '3 years'}\n",
        "skill = resume_text['skills']"
      ],
      "metadata": {
        "id": "y8xZe_A3aQnb"
      },
      "execution_count": 4,
      "outputs": []
    },
    {
      "cell_type": "code",
      "source": [
        "l1 = skill.split(\",\")\n",
        "l1"
      ],
      "metadata": {
        "colab": {
          "base_uri": "https://localhost:8080/"
        },
        "id": "ivjjOxL8aXFU",
        "outputId": "f3535746-df53-40b9-95c5-52cd8d6ac942"
      },
      "execution_count": 5,
      "outputs": [
        {
          "output_type": "execute_result",
          "data": {
            "text/plain": [
              "['Strong SQL skills',\n",
              " ' Built machine learning models for customer segmentation.']"
            ]
          },
          "metadata": {},
          "execution_count": 5
        }
      ]
    },
    {
      "cell_type": "code",
      "source": [
        "new_X = vectorizer.transform(l1)\n",
        "new_predictions = classifier.predict(new_X)\n",
        "print(new_predictions)"
      ],
      "metadata": {
        "id": "Ghbu8oTCaaDv",
        "colab": {
          "base_uri": "https://localhost:8080/"
        },
        "outputId": "4b17bf1f-ae33-4a02-9e43-510f136d91ab"
      },
      "execution_count": 6,
      "outputs": [
        {
          "output_type": "stream",
          "name": "stdout",
          "text": [
            "['Data Analyst' 'Machine Learning Engineer']\n"
          ]
        }
      ]
    },
    {
      "cell_type": "code",
      "source": [
        "for role in new_predictions:\n",
        "  Role=role\n",
        "  driver=webdriver.Chrome()\n",
        "  URL=f'https://in.indeed.com/jobs?q={Role}'\n",
        "  driver.get(URL)\n",
        "  time.sleep(3)\n",
        "  soup=BeautifulSoup(driver.page_source,\"html.parser\")\n",
        "  driver.close()\n",
        "  df=pd.DataFrame(columns=['Title','Company','Ratings','Salary','Location','Post_History'])\n",
        "  results=soup.find(class_='mosaic mosaic-provider-jobcards mosaic-provider-hydrated')\n",
        "  job_elems = results.find_all('div',class_='slider_container')\n",
        "  for job_elem in job_elems:\n",
        "    print(job_elem.prettify())\n",
        "  for job_elem in job_elems:\n",
        "    # Post Title\n",
        "    Title = job_elem.find('div',class_='heading4 color-text-primary singleLineTitle tapItem-gutter')\n",
        "    Title=Title.text\n",
        "\n",
        "    # Company Name\n",
        "    Comp = job_elem.find('div',class_='heading6 company_location tapItem-gutter')\n",
        "    Company = Comp.find('span',class_='companyName').text\n",
        "\n",
        "    #Ratings\n",
        "    rating = job_elem.find('div',class_='heading6 company_location tapItem-gutter')\n",
        "    rating_span = rating.find('span',class_='ratingNumber')\n",
        "    if rating_span is None:\n",
        "        Ratings = \"NA\"\n",
        "    else:\n",
        "        Ratings = rating_span.text\n",
        "\n",
        "    # Salary offered for the job\n",
        "    Sal_span = job_elem.find('div',class_='salary-snippet')\n",
        "    if Sal_span is None:\n",
        "        Salary = \"NA\"\n",
        "    else:\n",
        "        Salary = Sal_span.text\n",
        "\n",
        "    # Location for the job post\n",
        "    Loc = job_elem.find('div',class_='heading6 company_location tapItem-gutter')\n",
        "    Loc_exp = Loc.find('div',class_='companyLocation')\n",
        "    if Loc_exp is None:\n",
        "        Location = \"NA\"\n",
        "    else:\n",
        "        Location = Loc_exp.text\n",
        "\n",
        "    # Number of days since job posted\n",
        "    Hist = job_elem.find('div','heading6 tapItem-gutter result-footer')\n",
        "    Post_Hist = Hist.find('span',class_='date')\n",
        "    if Post_Hist is None:\n",
        "        Post_History = \"NA\"\n",
        "    else:\n",
        "        Post_History = Post_Hist.text\n",
        "\n",
        "    if Title[0:3]=='new':\n",
        "        Title=Title[3:]\n",
        "\n",
        "    df=df.append({'Title':Title,'Company':Company,'Salary':Salary,'Location':Location,'Post_History':Post_History,'Ratings':Ratings},ignore_index = True)\n",
        "    print(df)"
      ],
      "metadata": {
        "id": "5NU_9DXV2u4m"
      },
      "execution_count": null,
      "outputs": []
    }
  ]
}